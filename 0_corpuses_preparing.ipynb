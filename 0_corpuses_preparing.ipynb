{
 "cells": [
  {
   "cell_type": "code",
   "execution_count": 1,
   "metadata": {},
   "outputs": [
    {
     "name": "stderr",
     "output_type": "stream",
     "text": [
      "[nltk_data] Downloading package wordnet to\n",
      "[nltk_data]     C:\\Users\\Anton\\AppData\\Roaming\\nltk_data...\n",
      "[nltk_data]   Package wordnet is already up-to-date!\n",
      "[nltk_data] Downloading package stopwords to\n",
      "[nltk_data]     C:\\Users\\Anton\\AppData\\Roaming\\nltk_data...\n",
      "[nltk_data]   Package stopwords is already up-to-date!\n",
      "100%|██████████████████████████████████████████████████████████████████████████████████| 16/16 [00:03<00:00,  4.59it/s]\n",
      "100%|██████████████████████████████████████████████████████████████████████████████████| 16/16 [00:00<00:00, 67.13it/s]\n",
      "100%|██████████████████████████████████████████████████████████████████████████████| 6322/6322 [01:35<00:00, 65.95it/s]\n"
     ]
    }
   ],
   "source": [
    "import sys\n",
    "import os\n",
    "sys.path.append(os.path.join(sys.path[0], '..'))\n",
    "from tqdm import tqdm\n",
    "\n",
    "from tools.codexes_process_tools import *\n",
    "from tools.corpus import SimpleCorp\n",
    "from utils.tokenizers import stem_tokenizer\n",
    "\n",
    "PATH_TO_FILES = './data'\n",
    "# директория на папку с кодексами\n",
    "codexes_dir = os.path.join(\"./data\", \"codexes\")\n",
    "\n",
    "simple_corp = SimpleCorp()\n",
    "simple_corp_art_names = SimpleCorp()\n",
    "\n",
    "for filename in tqdm(os.listdir(codexes_dir)):\n",
    "    d1, _ = iter_by_docs(filename, codexes_dir, 'article', 0)\n",
    "    for doc_id, doc_text in d1.items():\n",
    "        simple_corp.add_doc(doc_id, doc_text)\n",
    "\n",
    "for filename in tqdm(os.listdir(codexes_dir)):\n",
    "    names = iter_by_docs(filename, codexes_dir, 'art_name', 1)\n",
    "    for doc_id, doc_text in names.items():\n",
    "        simple_corp_art_names.add_doc(doc_id, doc_text)\n",
    "\n",
    "tokenized_corp = SimpleCorp()\n",
    "tokenized_corp.make_from(simple_corp, stem_tokenizer)\n",
    "\n",
    "\n",
    "simple_corp.save('codexes_corp_articles', os.path.join(PATH_TO_FILES, \"corp\"))\n",
    "tokenized_corp.save('codexes_tokenized_corp_articles', os.path.join(PATH_TO_FILES, \"corp\"))\n",
    "simple_corp_art_names.save('codexes_corp_art_names', os.path.join(PATH_TO_FILES, \"corp\"))"
   ]
  }
 ],
 "metadata": {
  "kernelspec": {
   "display_name": "Python 3",
   "language": "python",
   "name": "python3"
  },
  "language_info": {
   "codemirror_mode": {
    "name": "ipython",
    "version": 3
   },
   "file_extension": ".py",
   "mimetype": "text/x-python",
   "name": "python",
   "nbconvert_exporter": "python",
   "pygments_lexer": "ipython3",
   "version": "3.8.3"
  }
 },
 "nbformat": 4,
 "nbformat_minor": 4
}
