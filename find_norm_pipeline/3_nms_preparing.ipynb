{
 "cells": [
  {
   "cell_type": "markdown",
   "metadata": {},
   "source": [
    "### Import libs"
   ]
  },
  {
   "cell_type": "code",
   "execution_count": 1,
   "metadata": {},
   "outputs": [
    {
     "name": "stderr",
     "output_type": "stream",
     "text": [
      "[nltk_data] Downloading package wordnet to\n",
      "[nltk_data]     C:\\Users\\Anton\\AppData\\Roaming\\nltk_data...\n",
      "[nltk_data]   Package wordnet is already up-to-date!\n",
      "[nltk_data] Downloading package stopwords to\n",
      "[nltk_data]     C:\\Users\\Anton\\AppData\\Roaming\\nltk_data...\n",
      "[nltk_data]   Package stopwords is already up-to-date!\n",
      "INFO: NMS index preparing...\n"
     ]
    }
   ],
   "source": [
    "import nmslib\n",
    "import numpy as np\n",
    "import pandas as pd # data processing, CSV file I/O (e.g. pd.read_csv)\n",
    "\n",
    "import sys\n",
    "import os\n",
    "sys.path.append(os.path.join(sys.path[0], '..'))\n",
    "import pickle\n",
    "from tqdm import tqdm\n",
    "\n",
    "from tools.corpus import SimpleCorp\n",
    "from utils.tokenizers import stem_tokenizer\n",
    "from utils.doc2vec import Doc2Vec\n",
    "from utils.metrics import mrr\n",
    "from utils.inverse_index import InverseIndex\n",
    "\n",
    "import logging\n",
    "logging.basicConfig(format='%(levelname)s: %(message)s')\n",
    "logging.root.setLevel(level=logging.INFO)\n",
    "logging.info('NMS index preparing...')"
   ]
  },
  {
   "cell_type": "markdown",
   "metadata": {},
   "source": [
    "### Data preparing"
   ]
  },
  {
   "cell_type": "code",
   "execution_count": 2,
   "metadata": {},
   "outputs": [],
   "source": [
    "with open(r'./data/doc2vec.model', 'rb') as f:\n",
    "    d2v = pickle.load(f)\n",
    "with open(r'./data/doc2vec_mean.model', 'rb') as f:\n",
    "    d2v_mean = pickle.load(f)\n",
    "\n",
    "PATH_TO_FILES = './data'\n",
    "tokenized_corp = SimpleCorp().load('codexes_tokenized_corp_articles', os.path.join(PATH_TO_FILES, \"corp\"))\n",
    "simple_corp = SimpleCorp().load('codexes_corp_articles', os.path.join(PATH_TO_FILES, \"corp\"))\n",
    "simple_corp_art_names = SimpleCorp().load('codexes_corp_art_names', os.path.join(PATH_TO_FILES, \"corp\"))"
   ]
  },
  {
   "cell_type": "code",
   "execution_count": 3,
   "metadata": {},
   "outputs": [
    {
     "name": "stderr",
     "output_type": "stream",
     "text": [
      "100%|████████████████████████████████████████████████████████████████████████████| 6322/6322 [00:06<00:00, 1012.55it/s]\n",
      "100%|████████████████████████████████████████████████████████████████████████████| 6322/6322 [00:04<00:00, 1488.40it/s]\n"
     ]
    }
   ],
   "source": [
    "docs_vectors = [d2v.get_sentence_vector(doc[1], True) for doc in tqdm(tokenized_corp)]\n",
    "docs_vectors_mean = [d2v_mean.get_sentence_vector(doc[1], True) for doc in tqdm(tokenized_corp)]\n",
    "np_docs_vectors = np.array(docs_vectors)\n",
    "np_docs_vectors_mean = np.array(docs_vectors_mean)"
   ]
  },
  {
   "cell_type": "markdown",
   "metadata": {},
   "source": [
    "### Index building"
   ]
  },
  {
   "cell_type": "code",
   "execution_count": 4,
   "metadata": {},
   "outputs": [
    {
     "name": "stderr",
     "output_type": "stream",
     "text": [
      "INFO: M                   = 16\n",
      "INFO: indexThreadQty      = 4\n",
      "INFO: efConstruction      = 200\n",
      "INFO: maxM\t\t\t          = 16\n",
      "INFO: maxM0\t\t\t          = 32\n",
      "INFO: mult                = 0.360674\n",
      "INFO: skip_optimized_index= 0\n",
      "INFO: delaunay_type       = 2\n",
      "INFO: Set HNSW query-time parameters:\n",
      "INFO: ef(Search)         =20\n",
      "INFO: algoType           =2\n",
      "INFO: \n",
      "The vector space is CosineSimilarity\n",
      "INFO: Vector length=300\n",
      "INFO: searchMethod\t\t\t  = 3\n",
      "INFO: Making optimized index\n",
      "INFO: Finished making optimized index\n",
      "INFO: Maximum level = 3\n",
      "INFO: Total memory allocated for optimized index+data: 8 Mb\n",
      "INFO: M                   = 16\n",
      "INFO: indexThreadQty      = 4\n",
      "INFO: efConstruction      = 200\n",
      "INFO: maxM\t\t\t          = 16\n",
      "INFO: maxM0\t\t\t          = 32\n",
      "INFO: mult                = 0.360674\n",
      "INFO: skip_optimized_index= 0\n",
      "INFO: delaunay_type       = 2\n",
      "INFO: Set HNSW query-time parameters:\n",
      "INFO: ef(Search)         =20\n",
      "INFO: algoType           =2\n",
      "INFO: \n",
      "The vector space is CosineSimilarity\n",
      "INFO: Vector length=300\n",
      "INFO: searchMethod\t\t\t  = 3\n",
      "INFO: Making optimized index\n",
      "INFO: Finished making optimized index\n",
      "INFO: Maximum level = 3\n",
      "INFO: Total memory allocated for optimized index+data: 8 Mb\n"
     ]
    }
   ],
   "source": [
    "# initialize a new index, using a HNSW index on Cosine Similarity\n",
    "index = nmslib.init(method='hnsw', space='cosinesimil')\n",
    "index.addDataPointBatch(np_docs_vectors)\n",
    "index.createIndex({'post': 2}, print_progress=True)\n",
    "\n",
    "# initialize a new index, using a HNSW index on Cosine Similarity\n",
    "index_mean = nmslib.init(method='hnsw', space='cosinesimil')\n",
    "index_mean.addDataPointBatch(np_docs_vectors_mean)\n",
    "index_mean.createIndex({'post': 2}, print_progress=True)"
   ]
  },
  {
   "cell_type": "code",
   "execution_count": 5,
   "metadata": {},
   "outputs": [
    {
     "name": "stdout",
     "output_type": "stream",
     "text": [
      "Sanity check successful\n",
      "Sanity check successful\n"
     ]
    }
   ],
   "source": [
    "ids, distances = index.knnQuery(np_docs_vectors[10], k=5)\n",
    "result_ = 'Sanity check successful' if 10 in ids else 'Sanity check failed'\n",
    "print(result_)\n",
    "\n",
    "ids, distances = index_mean.knnQuery(np_docs_vectors_mean[10], k=5)\n",
    "result_ = 'Sanity check successful' if 10 in ids else 'Sanity check failed'\n",
    "print(result_)"
   ]
  },
  {
   "cell_type": "code",
   "execution_count": 6,
   "metadata": {},
   "outputs": [
    {
     "data": {
      "text/plain": [
       "(array([  10,   56,  704,  699, 5164]),\n",
       " array([0.        , 0.2852506 , 0.3022762 , 0.31626922, 0.32325107],\n",
       "       dtype=float32))"
      ]
     },
     "execution_count": 6,
     "metadata": {},
     "output_type": "execute_result"
    }
   ],
   "source": [
    "ids, distances"
   ]
  },
  {
   "cell_type": "code",
   "execution_count": 7,
   "metadata": {},
   "outputs": [
    {
     "name": "stderr",
     "output_type": "stream",
     "text": [
      "INFO: writing 8522056 bytes\n",
      "INFO: writing 8522056 bytes\n"
     ]
    }
   ],
   "source": [
    "path_to_save = r'./data/index'\n",
    "if not os.path.exists(path_to_save):\n",
    "    os.makedirs(path_to_save)\n",
    "index.saveIndex(path_to_save + '/index_nmslib', save_data=True)\n",
    "index_mean.saveIndex(path_to_save + '/index_mean_nmslib', save_data=True)"
   ]
  }
 ],
 "metadata": {
  "kernelspec": {
   "display_name": "Python 3",
   "language": "python",
   "name": "python3"
  },
  "language_info": {
   "codemirror_mode": {
    "name": "ipython",
    "version": 3
   },
   "file_extension": ".py",
   "mimetype": "text/x-python",
   "name": "python",
   "nbconvert_exporter": "python",
   "pygments_lexer": "ipython3",
   "version": "3.8.3"
  }
 },
 "nbformat": 4,
 "nbformat_minor": 4
}
