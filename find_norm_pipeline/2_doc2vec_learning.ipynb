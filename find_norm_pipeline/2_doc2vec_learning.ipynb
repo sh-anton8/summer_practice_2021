{
 "cells": [
  {
   "cell_type": "markdown",
   "metadata": {},
   "source": [
    "### Import libs"
   ]
  },
  {
   "cell_type": "code",
   "execution_count": 1,
   "metadata": {
    "scrolled": true
   },
   "outputs": [
    {
     "name": "stderr",
     "output_type": "stream",
     "text": [
      "[nltk_data] Downloading package wordnet to\n",
      "[nltk_data]     C:\\Users\\Anton\\AppData\\Roaming\\nltk_data...\n",
      "[nltk_data]   Package wordnet is already up-to-date!\n",
      "[nltk_data] Downloading package stopwords to\n",
      "[nltk_data]     C:\\Users\\Anton\\AppData\\Roaming\\nltk_data...\n",
      "[nltk_data]   Package stopwords is already up-to-date!\n",
      "INFO: Doc2vec learning...\n"
     ]
    }
   ],
   "source": [
    "import numpy as np # linear algebra\n",
    "import pandas as pd # data processing, CSV file I/O (e.g. pd.read_csv)\n",
    "\n",
    "import sys\n",
    "import os\n",
    "sys.path.append(os.path.join(sys.path[0], '..'))\n",
    "import pickle\n",
    "from tqdm import tqdm\n",
    "\n",
    "from tools.corpus import SimpleCorp\n",
    "from utils.tokenizers import stem_tokenizer\n",
    "from utils.doc2vec import Doc2Vec\n",
    "from utils.metrics import mrr\n",
    "from utils.inverse_index import InverseIndex\n",
    "\n",
    "from gensim.models import Word2Vec\n",
    "from gensim.models import TfidfModel\n",
    "from gensim.corpora import Dictionary\n",
    "\n",
    "import logging\n",
    "logging.basicConfig(format='%(levelname)s: %(message)s')\n",
    "logging.root.setLevel(level=logging.INFO)\n",
    "logging.info('Doc2vec learning...')"
   ]
  },
  {
   "cell_type": "markdown",
   "metadata": {},
   "source": [
    "### Data Preparing"
   ]
  },
  {
   "cell_type": "code",
   "execution_count": 2,
   "metadata": {},
   "outputs": [],
   "source": [
    "PATH_TO_FILES = './data'\n",
    "\n",
    "tokenized_corp = SimpleCorp().load('codexes_tokenized_corp_articles', os.path.join(PATH_TO_FILES, \"corp\"))\n",
    "simple_corp = SimpleCorp().load('codexes_corp_articles', os.path.join(PATH_TO_FILES, \"corp\"))\n",
    "simple_corp_art_names = SimpleCorp().load('codexes_corp_art_names', os.path.join(PATH_TO_FILES, \"corp\"))"
   ]
  },
  {
   "cell_type": "code",
   "execution_count": 3,
   "metadata": {},
   "outputs": [],
   "source": [
    "class iter_helper:\n",
    "    def __init__(self, corp):\n",
    "        self.corp = corp\n",
    "    \n",
    "    def __iter__(self):\n",
    "        for doc_id, doc_text in self.corp:\n",
    "            yield doc_text"
   ]
  },
  {
   "cell_type": "code",
   "execution_count": 4,
   "metadata": {},
   "outputs": [],
   "source": [
    "tokenized_corp_iterator = iter_helper(tokenized_corp)"
   ]
  },
  {
   "cell_type": "markdown",
   "metadata": {},
   "source": [
    "### Word2Vec model "
   ]
  },
  {
   "cell_type": "code",
   "execution_count": 5,
   "metadata": {
    "scrolled": true
   },
   "outputs": [
    {
     "name": "stderr",
     "output_type": "stream",
     "text": [
      "INFO: collecting all words and their counts\n",
      "INFO: PROGRESS: at sentence #0, processed 0 words, keeping 0 word types\n",
      "INFO: collected 12315 word types from a corpus of 1172543 raw words and 6322 sentences\n",
      "INFO: Loading a fresh vocabulary\n",
      "INFO: effective_min_count=1 retains 12315 unique words (100% of original 12315, drops 0)\n",
      "INFO: effective_min_count=1 leaves 1172543 word corpus (100% of original 1172543, drops 0)\n",
      "INFO: deleting the raw counts dictionary of 12315 items\n",
      "INFO: sample=0.001 downsamples 62 most-common words\n",
      "INFO: downsampling leaves estimated 1027528 word corpus (87.6% of prior 1172543)\n",
      "INFO: estimated required memory for 12315 words and 300 dimensions: 35713500 bytes\n",
      "INFO: resetting layer weights\n",
      "INFO: training model with 10 workers on 12315 vocabulary and 300 features, using sg=0 hs=0 sample=0.001 negative=5 window=10\n",
      "INFO: EPOCH 1 - PROGRESS: at 50.93% examples, 668264 words/s, in_qsize 19, out_qsize 0\n",
      "INFO: worker thread finished; awaiting finish of 9 more threads\n",
      "INFO: worker thread finished; awaiting finish of 8 more threads\n",
      "INFO: worker thread finished; awaiting finish of 7 more threads\n",
      "INFO: worker thread finished; awaiting finish of 6 more threads\n",
      "INFO: worker thread finished; awaiting finish of 5 more threads\n",
      "INFO: worker thread finished; awaiting finish of 4 more threads\n",
      "INFO: worker thread finished; awaiting finish of 3 more threads\n",
      "INFO: worker thread finished; awaiting finish of 2 more threads\n",
      "INFO: worker thread finished; awaiting finish of 1 more threads\n",
      "INFO: worker thread finished; awaiting finish of 0 more threads\n",
      "INFO: EPOCH - 1 : training on 1172543 raw words (1027991 effective words) took 1.5s, 671934 effective words/s\n",
      "INFO: EPOCH 2 - PROGRESS: at 54.38% examples, 689186 words/s, in_qsize 20, out_qsize 0\n",
      "INFO: worker thread finished; awaiting finish of 9 more threads\n",
      "INFO: worker thread finished; awaiting finish of 8 more threads\n",
      "INFO: worker thread finished; awaiting finish of 7 more threads\n",
      "INFO: worker thread finished; awaiting finish of 6 more threads\n",
      "INFO: worker thread finished; awaiting finish of 5 more threads\n",
      "INFO: worker thread finished; awaiting finish of 4 more threads\n",
      "INFO: worker thread finished; awaiting finish of 3 more threads\n",
      "INFO: worker thread finished; awaiting finish of 2 more threads\n",
      "INFO: worker thread finished; awaiting finish of 1 more threads\n",
      "INFO: worker thread finished; awaiting finish of 0 more threads\n",
      "INFO: EPOCH - 2 : training on 1172543 raw words (1027579 effective words) took 1.4s, 721525 effective words/s\n",
      "INFO: EPOCH 3 - PROGRESS: at 68.35% examples, 733316 words/s, in_qsize 19, out_qsize 0\n",
      "INFO: worker thread finished; awaiting finish of 9 more threads\n",
      "INFO: worker thread finished; awaiting finish of 8 more threads\n",
      "INFO: worker thread finished; awaiting finish of 7 more threads\n",
      "INFO: worker thread finished; awaiting finish of 6 more threads\n",
      "INFO: worker thread finished; awaiting finish of 5 more threads\n",
      "INFO: worker thread finished; awaiting finish of 4 more threads\n",
      "INFO: worker thread finished; awaiting finish of 3 more threads\n",
      "INFO: worker thread finished; awaiting finish of 2 more threads\n",
      "INFO: worker thread finished; awaiting finish of 1 more threads\n",
      "INFO: worker thread finished; awaiting finish of 0 more threads\n",
      "INFO: EPOCH - 3 : training on 1172543 raw words (1027216 effective words) took 1.3s, 767121 effective words/s\n",
      "INFO: EPOCH 4 - PROGRESS: at 56.25% examples, 688772 words/s, in_qsize 19, out_qsize 0\n",
      "INFO: worker thread finished; awaiting finish of 9 more threads\n",
      "INFO: worker thread finished; awaiting finish of 8 more threads\n",
      "INFO: worker thread finished; awaiting finish of 7 more threads\n",
      "INFO: worker thread finished; awaiting finish of 6 more threads\n",
      "INFO: worker thread finished; awaiting finish of 5 more threads\n",
      "INFO: worker thread finished; awaiting finish of 4 more threads\n",
      "INFO: worker thread finished; awaiting finish of 3 more threads\n",
      "INFO: worker thread finished; awaiting finish of 2 more threads\n",
      "INFO: worker thread finished; awaiting finish of 1 more threads\n",
      "INFO: worker thread finished; awaiting finish of 0 more threads\n",
      "INFO: EPOCH - 4 : training on 1172543 raw words (1027720 effective words) took 1.4s, 730382 effective words/s\n",
      "INFO: EPOCH 5 - PROGRESS: at 66.83% examples, 739813 words/s, in_qsize 19, out_qsize 0\n",
      "INFO: worker thread finished; awaiting finish of 9 more threads\n",
      "INFO: worker thread finished; awaiting finish of 8 more threads\n",
      "INFO: worker thread finished; awaiting finish of 7 more threads\n",
      "INFO: worker thread finished; awaiting finish of 6 more threads\n",
      "INFO: worker thread finished; awaiting finish of 5 more threads\n",
      "INFO: worker thread finished; awaiting finish of 4 more threads\n",
      "INFO: worker thread finished; awaiting finish of 3 more threads\n",
      "INFO: worker thread finished; awaiting finish of 2 more threads\n",
      "INFO: worker thread finished; awaiting finish of 1 more threads\n",
      "INFO: worker thread finished; awaiting finish of 0 more threads\n",
      "INFO: EPOCH - 5 : training on 1172543 raw words (1028027 effective words) took 1.3s, 778853 effective words/s\n",
      "INFO: EPOCH 6 - PROGRESS: at 57.28% examples, 682685 words/s, in_qsize 19, out_qsize 0\n",
      "INFO: worker thread finished; awaiting finish of 9 more threads\n",
      "INFO: worker thread finished; awaiting finish of 8 more threads\n",
      "INFO: worker thread finished; awaiting finish of 7 more threads\n",
      "INFO: worker thread finished; awaiting finish of 6 more threads\n",
      "INFO: worker thread finished; awaiting finish of 5 more threads\n",
      "INFO: worker thread finished; awaiting finish of 4 more threads\n",
      "INFO: worker thread finished; awaiting finish of 3 more threads\n",
      "INFO: worker thread finished; awaiting finish of 2 more threads\n",
      "INFO: worker thread finished; awaiting finish of 1 more threads\n",
      "INFO: worker thread finished; awaiting finish of 0 more threads\n",
      "INFO: EPOCH - 6 : training on 1172543 raw words (1027783 effective words) took 1.4s, 731160 effective words/s\n",
      "INFO: EPOCH 7 - PROGRESS: at 58.67% examples, 700496 words/s, in_qsize 19, out_qsize 0\n",
      "INFO: worker thread finished; awaiting finish of 9 more threads\n",
      "INFO: worker thread finished; awaiting finish of 8 more threads\n",
      "INFO: worker thread finished; awaiting finish of 7 more threads\n",
      "INFO: worker thread finished; awaiting finish of 6 more threads\n",
      "INFO: worker thread finished; awaiting finish of 5 more threads\n",
      "INFO: worker thread finished; awaiting finish of 4 more threads\n",
      "INFO: worker thread finished; awaiting finish of 3 more threads\n",
      "INFO: worker thread finished; awaiting finish of 2 more threads\n",
      "INFO: worker thread finished; awaiting finish of 1 more threads\n",
      "INFO: worker thread finished; awaiting finish of 0 more threads\n",
      "INFO: EPOCH - 7 : training on 1172543 raw words (1027487 effective words) took 1.4s, 747043 effective words/s\n",
      "INFO: EPOCH 8 - PROGRESS: at 60.93% examples, 701717 words/s, in_qsize 19, out_qsize 0\n",
      "INFO: worker thread finished; awaiting finish of 9 more threads\n",
      "INFO: worker thread finished; awaiting finish of 8 more threads\n",
      "INFO: worker thread finished; awaiting finish of 7 more threads\n",
      "INFO: worker thread finished; awaiting finish of 6 more threads\n",
      "INFO: worker thread finished; awaiting finish of 5 more threads\n",
      "INFO: worker thread finished; awaiting finish of 4 more threads\n",
      "INFO: worker thread finished; awaiting finish of 3 more threads\n",
      "INFO: worker thread finished; awaiting finish of 2 more threads\n",
      "INFO: worker thread finished; awaiting finish of 1 more threads\n",
      "INFO: worker thread finished; awaiting finish of 0 more threads\n",
      "INFO: EPOCH - 8 : training on 1172543 raw words (1027710 effective words) took 1.3s, 766687 effective words/s\n",
      "INFO: EPOCH 9 - PROGRESS: at 66.62% examples, 740659 words/s, in_qsize 19, out_qsize 0\n",
      "INFO: worker thread finished; awaiting finish of 9 more threads\n",
      "INFO: worker thread finished; awaiting finish of 8 more threads\n",
      "INFO: worker thread finished; awaiting finish of 7 more threads\n",
      "INFO: worker thread finished; awaiting finish of 6 more threads\n",
      "INFO: worker thread finished; awaiting finish of 5 more threads\n",
      "INFO: worker thread finished; awaiting finish of 4 more threads\n",
      "INFO: worker thread finished; awaiting finish of 3 more threads\n",
      "INFO: worker thread finished; awaiting finish of 2 more threads\n",
      "INFO: worker thread finished; awaiting finish of 1 more threads\n"
     ]
    },
    {
     "name": "stderr",
     "output_type": "stream",
     "text": [
      "INFO: worker thread finished; awaiting finish of 0 more threads\n",
      "INFO: EPOCH - 9 : training on 1172543 raw words (1027418 effective words) took 1.3s, 763757 effective words/s\n",
      "INFO: EPOCH 10 - PROGRESS: at 57.81% examples, 682967 words/s, in_qsize 20, out_qsize 1\n",
      "INFO: worker thread finished; awaiting finish of 9 more threads\n",
      "INFO: worker thread finished; awaiting finish of 8 more threads\n",
      "INFO: worker thread finished; awaiting finish of 7 more threads\n",
      "INFO: worker thread finished; awaiting finish of 6 more threads\n",
      "INFO: worker thread finished; awaiting finish of 5 more threads\n",
      "INFO: worker thread finished; awaiting finish of 4 more threads\n",
      "INFO: worker thread finished; awaiting finish of 3 more threads\n",
      "INFO: worker thread finished; awaiting finish of 2 more threads\n",
      "INFO: worker thread finished; awaiting finish of 1 more threads\n",
      "INFO: worker thread finished; awaiting finish of 0 more threads\n",
      "INFO: EPOCH - 10 : training on 1172543 raw words (1027165 effective words) took 1.4s, 752179 effective words/s\n",
      "INFO: EPOCH 11 - PROGRESS: at 64.68% examples, 703731 words/s, in_qsize 19, out_qsize 0\n",
      "INFO: worker thread finished; awaiting finish of 9 more threads\n",
      "INFO: worker thread finished; awaiting finish of 8 more threads\n",
      "INFO: worker thread finished; awaiting finish of 7 more threads\n",
      "INFO: worker thread finished; awaiting finish of 6 more threads\n",
      "INFO: worker thread finished; awaiting finish of 5 more threads\n",
      "INFO: worker thread finished; awaiting finish of 4 more threads\n",
      "INFO: worker thread finished; awaiting finish of 3 more threads\n",
      "INFO: worker thread finished; awaiting finish of 2 more threads\n",
      "INFO: worker thread finished; awaiting finish of 1 more threads\n",
      "INFO: worker thread finished; awaiting finish of 0 more threads\n",
      "INFO: EPOCH - 11 : training on 1172543 raw words (1027583 effective words) took 1.4s, 759490 effective words/s\n",
      "INFO: EPOCH 12 - PROGRESS: at 63.73% examples, 729467 words/s, in_qsize 20, out_qsize 0\n",
      "INFO: worker thread finished; awaiting finish of 9 more threads\n",
      "INFO: worker thread finished; awaiting finish of 8 more threads\n",
      "INFO: worker thread finished; awaiting finish of 7 more threads\n",
      "INFO: worker thread finished; awaiting finish of 6 more threads\n",
      "INFO: worker thread finished; awaiting finish of 5 more threads\n",
      "INFO: worker thread finished; awaiting finish of 4 more threads\n",
      "INFO: worker thread finished; awaiting finish of 3 more threads\n",
      "INFO: worker thread finished; awaiting finish of 2 more threads\n",
      "INFO: worker thread finished; awaiting finish of 1 more threads\n",
      "INFO: worker thread finished; awaiting finish of 0 more threads\n",
      "INFO: EPOCH - 12 : training on 1172543 raw words (1027948 effective words) took 1.4s, 757838 effective words/s\n",
      "INFO: EPOCH 13 - PROGRESS: at 63.37% examples, 738432 words/s, in_qsize 19, out_qsize 0\n",
      "INFO: worker thread finished; awaiting finish of 9 more threads\n",
      "INFO: worker thread finished; awaiting finish of 8 more threads\n",
      "INFO: worker thread finished; awaiting finish of 7 more threads\n",
      "INFO: worker thread finished; awaiting finish of 6 more threads\n",
      "INFO: worker thread finished; awaiting finish of 5 more threads\n",
      "INFO: worker thread finished; awaiting finish of 4 more threads\n",
      "INFO: worker thread finished; awaiting finish of 3 more threads\n",
      "INFO: worker thread finished; awaiting finish of 2 more threads\n",
      "INFO: worker thread finished; awaiting finish of 1 more threads\n",
      "INFO: worker thread finished; awaiting finish of 0 more threads\n",
      "INFO: EPOCH - 13 : training on 1172543 raw words (1027263 effective words) took 1.3s, 766312 effective words/s\n",
      "INFO: EPOCH 14 - PROGRESS: at 63.26% examples, 722567 words/s, in_qsize 19, out_qsize 0\n",
      "INFO: worker thread finished; awaiting finish of 9 more threads\n",
      "INFO: worker thread finished; awaiting finish of 8 more threads\n",
      "INFO: worker thread finished; awaiting finish of 7 more threads\n",
      "INFO: worker thread finished; awaiting finish of 6 more threads\n",
      "INFO: worker thread finished; awaiting finish of 5 more threads\n",
      "INFO: worker thread finished; awaiting finish of 4 more threads\n",
      "INFO: worker thread finished; awaiting finish of 3 more threads\n",
      "INFO: worker thread finished; awaiting finish of 2 more threads\n",
      "INFO: worker thread finished; awaiting finish of 1 more threads\n",
      "INFO: worker thread finished; awaiting finish of 0 more threads\n",
      "INFO: EPOCH - 14 : training on 1172543 raw words (1027388 effective words) took 1.3s, 764907 effective words/s\n",
      "INFO: EPOCH 15 - PROGRESS: at 62.67% examples, 725830 words/s, in_qsize 19, out_qsize 0\n",
      "INFO: worker thread finished; awaiting finish of 9 more threads\n",
      "INFO: worker thread finished; awaiting finish of 8 more threads\n",
      "INFO: worker thread finished; awaiting finish of 7 more threads\n",
      "INFO: worker thread finished; awaiting finish of 6 more threads\n",
      "INFO: worker thread finished; awaiting finish of 5 more threads\n",
      "INFO: worker thread finished; awaiting finish of 4 more threads\n",
      "INFO: worker thread finished; awaiting finish of 3 more threads\n",
      "INFO: worker thread finished; awaiting finish of 2 more threads\n",
      "INFO: worker thread finished; awaiting finish of 1 more threads\n",
      "INFO: worker thread finished; awaiting finish of 0 more threads\n",
      "INFO: EPOCH - 15 : training on 1172543 raw words (1027444 effective words) took 1.3s, 768986 effective words/s\n",
      "INFO: EPOCH 16 - PROGRESS: at 61.71% examples, 697552 words/s, in_qsize 18, out_qsize 1\n",
      "INFO: worker thread finished; awaiting finish of 9 more threads\n",
      "INFO: worker thread finished; awaiting finish of 8 more threads\n",
      "INFO: worker thread finished; awaiting finish of 7 more threads\n",
      "INFO: worker thread finished; awaiting finish of 6 more threads\n",
      "INFO: worker thread finished; awaiting finish of 5 more threads\n",
      "INFO: worker thread finished; awaiting finish of 4 more threads\n",
      "INFO: worker thread finished; awaiting finish of 3 more threads\n",
      "INFO: worker thread finished; awaiting finish of 2 more threads\n",
      "INFO: worker thread finished; awaiting finish of 1 more threads\n",
      "INFO: worker thread finished; awaiting finish of 0 more threads\n",
      "INFO: EPOCH - 16 : training on 1172543 raw words (1027144 effective words) took 1.5s, 705060 effective words/s\n",
      "INFO: EPOCH 17 - PROGRESS: at 65.11% examples, 726676 words/s, in_qsize 19, out_qsize 0\n",
      "INFO: worker thread finished; awaiting finish of 9 more threads\n",
      "INFO: worker thread finished; awaiting finish of 8 more threads\n",
      "INFO: worker thread finished; awaiting finish of 7 more threads\n",
      "INFO: worker thread finished; awaiting finish of 6 more threads\n",
      "INFO: worker thread finished; awaiting finish of 5 more threads\n",
      "INFO: worker thread finished; awaiting finish of 4 more threads\n",
      "INFO: worker thread finished; awaiting finish of 3 more threads\n",
      "INFO: worker thread finished; awaiting finish of 2 more threads\n",
      "INFO: worker thread finished; awaiting finish of 1 more threads\n",
      "INFO: worker thread finished; awaiting finish of 0 more threads\n",
      "INFO: EPOCH - 17 : training on 1172543 raw words (1027201 effective words) took 1.4s, 754985 effective words/s\n",
      "INFO: EPOCH 18 - PROGRESS: at 69.71% examples, 748687 words/s, in_qsize 19, out_qsize 0\n",
      "INFO: worker thread finished; awaiting finish of 9 more threads\n",
      "INFO: worker thread finished; awaiting finish of 8 more threads\n",
      "INFO: worker thread finished; awaiting finish of 7 more threads\n",
      "INFO: worker thread finished; awaiting finish of 6 more threads\n",
      "INFO: worker thread finished; awaiting finish of 5 more threads\n",
      "INFO: worker thread finished; awaiting finish of 4 more threads\n",
      "INFO: worker thread finished; awaiting finish of 3 more threads\n",
      "INFO: worker thread finished; awaiting finish of 2 more threads\n",
      "INFO: worker thread finished; awaiting finish of 1 more threads\n",
      "INFO: worker thread finished; awaiting finish of 0 more threads\n",
      "INFO: EPOCH - 18 : training on 1172543 raw words (1027380 effective words) took 1.3s, 790376 effective words/s\n",
      "INFO: EPOCH 19 - PROGRESS: at 71.70% examples, 772844 words/s, in_qsize 19, out_qsize 0\n",
      "INFO: worker thread finished; awaiting finish of 9 more threads\n",
      "INFO: worker thread finished; awaiting finish of 8 more threads\n",
      "INFO: worker thread finished; awaiting finish of 7 more threads\n",
      "INFO: worker thread finished; awaiting finish of 6 more threads\n",
      "INFO: worker thread finished; awaiting finish of 5 more threads\n",
      "INFO: worker thread finished; awaiting finish of 4 more threads\n"
     ]
    },
    {
     "name": "stderr",
     "output_type": "stream",
     "text": [
      "INFO: worker thread finished; awaiting finish of 3 more threads\n",
      "INFO: worker thread finished; awaiting finish of 2 more threads\n",
      "INFO: worker thread finished; awaiting finish of 1 more threads\n",
      "INFO: worker thread finished; awaiting finish of 0 more threads\n",
      "INFO: EPOCH - 19 : training on 1172543 raw words (1027362 effective words) took 1.3s, 777544 effective words/s\n",
      "INFO: EPOCH 20 - PROGRESS: at 75.43% examples, 794513 words/s, in_qsize 19, out_qsize 0\n",
      "INFO: worker thread finished; awaiting finish of 9 more threads\n",
      "INFO: worker thread finished; awaiting finish of 8 more threads\n",
      "INFO: worker thread finished; awaiting finish of 7 more threads\n",
      "INFO: worker thread finished; awaiting finish of 6 more threads\n",
      "INFO: worker thread finished; awaiting finish of 5 more threads\n",
      "INFO: worker thread finished; awaiting finish of 4 more threads\n",
      "INFO: worker thread finished; awaiting finish of 3 more threads\n",
      "INFO: worker thread finished; awaiting finish of 2 more threads\n",
      "INFO: worker thread finished; awaiting finish of 1 more threads\n",
      "INFO: worker thread finished; awaiting finish of 0 more threads\n",
      "INFO: EPOCH - 20 : training on 1172543 raw words (1027247 effective words) took 1.3s, 804472 effective words/s\n",
      "INFO: EPOCH 21 - PROGRESS: at 73.36% examples, 781475 words/s, in_qsize 19, out_qsize 0\n",
      "INFO: worker thread finished; awaiting finish of 9 more threads\n",
      "INFO: worker thread finished; awaiting finish of 8 more threads\n",
      "INFO: worker thread finished; awaiting finish of 7 more threads\n",
      "INFO: worker thread finished; awaiting finish of 6 more threads\n",
      "INFO: worker thread finished; awaiting finish of 5 more threads\n",
      "INFO: worker thread finished; awaiting finish of 4 more threads\n",
      "INFO: worker thread finished; awaiting finish of 3 more threads\n",
      "INFO: worker thread finished; awaiting finish of 2 more threads\n",
      "INFO: worker thread finished; awaiting finish of 1 more threads\n",
      "INFO: worker thread finished; awaiting finish of 0 more threads\n",
      "INFO: EPOCH - 21 : training on 1172543 raw words (1027875 effective words) took 1.3s, 808647 effective words/s\n",
      "INFO: EPOCH 22 - PROGRESS: at 71.70% examples, 753387 words/s, in_qsize 19, out_qsize 0\n",
      "INFO: worker thread finished; awaiting finish of 9 more threads\n",
      "INFO: worker thread finished; awaiting finish of 8 more threads\n",
      "INFO: worker thread finished; awaiting finish of 7 more threads\n",
      "INFO: worker thread finished; awaiting finish of 6 more threads\n",
      "INFO: worker thread finished; awaiting finish of 5 more threads\n",
      "INFO: worker thread finished; awaiting finish of 4 more threads\n",
      "INFO: worker thread finished; awaiting finish of 3 more threads\n",
      "INFO: worker thread finished; awaiting finish of 2 more threads\n",
      "INFO: worker thread finished; awaiting finish of 1 more threads\n",
      "INFO: worker thread finished; awaiting finish of 0 more threads\n",
      "INFO: EPOCH - 22 : training on 1172543 raw words (1027252 effective words) took 1.3s, 795919 effective words/s\n",
      "INFO: EPOCH 23 - PROGRESS: at 74.26% examples, 772187 words/s, in_qsize 19, out_qsize 0\n",
      "INFO: worker thread finished; awaiting finish of 9 more threads\n",
      "INFO: worker thread finished; awaiting finish of 8 more threads\n",
      "INFO: worker thread finished; awaiting finish of 7 more threads\n",
      "INFO: worker thread finished; awaiting finish of 6 more threads\n",
      "INFO: worker thread finished; awaiting finish of 5 more threads\n",
      "INFO: worker thread finished; awaiting finish of 4 more threads\n",
      "INFO: worker thread finished; awaiting finish of 3 more threads\n",
      "INFO: worker thread finished; awaiting finish of 2 more threads\n",
      "INFO: worker thread finished; awaiting finish of 1 more threads\n",
      "INFO: worker thread finished; awaiting finish of 0 more threads\n",
      "INFO: EPOCH - 23 : training on 1172543 raw words (1027255 effective words) took 1.3s, 788536 effective words/s\n",
      "INFO: EPOCH 24 - PROGRESS: at 71.67% examples, 776483 words/s, in_qsize 19, out_qsize 0\n",
      "INFO: worker thread finished; awaiting finish of 9 more threads\n",
      "INFO: worker thread finished; awaiting finish of 8 more threads\n",
      "INFO: worker thread finished; awaiting finish of 7 more threads\n",
      "INFO: worker thread finished; awaiting finish of 6 more threads\n",
      "INFO: worker thread finished; awaiting finish of 5 more threads\n",
      "INFO: worker thread finished; awaiting finish of 4 more threads\n",
      "INFO: worker thread finished; awaiting finish of 3 more threads\n",
      "INFO: worker thread finished; awaiting finish of 2 more threads\n",
      "INFO: worker thread finished; awaiting finish of 1 more threads\n",
      "INFO: worker thread finished; awaiting finish of 0 more threads\n",
      "INFO: EPOCH - 24 : training on 1172543 raw words (1027835 effective words) took 1.3s, 799421 effective words/s\n",
      "INFO: EPOCH 25 - PROGRESS: at 70.61% examples, 764069 words/s, in_qsize 19, out_qsize 0\n",
      "INFO: worker thread finished; awaiting finish of 9 more threads\n",
      "INFO: worker thread finished; awaiting finish of 8 more threads\n",
      "INFO: worker thread finished; awaiting finish of 7 more threads\n",
      "INFO: worker thread finished; awaiting finish of 6 more threads\n",
      "INFO: worker thread finished; awaiting finish of 5 more threads\n",
      "INFO: worker thread finished; awaiting finish of 4 more threads\n",
      "INFO: worker thread finished; awaiting finish of 3 more threads\n",
      "INFO: worker thread finished; awaiting finish of 2 more threads\n",
      "INFO: worker thread finished; awaiting finish of 1 more threads\n",
      "INFO: worker thread finished; awaiting finish of 0 more threads\n",
      "INFO: EPOCH - 25 : training on 1172543 raw words (1027569 effective words) took 1.3s, 802825 effective words/s\n",
      "INFO: EPOCH 26 - PROGRESS: at 71.67% examples, 776916 words/s, in_qsize 19, out_qsize 0\n",
      "INFO: worker thread finished; awaiting finish of 9 more threads\n",
      "INFO: worker thread finished; awaiting finish of 8 more threads\n",
      "INFO: worker thread finished; awaiting finish of 7 more threads\n",
      "INFO: worker thread finished; awaiting finish of 6 more threads\n",
      "INFO: worker thread finished; awaiting finish of 5 more threads\n",
      "INFO: worker thread finished; awaiting finish of 4 more threads\n",
      "INFO: worker thread finished; awaiting finish of 3 more threads\n",
      "INFO: worker thread finished; awaiting finish of 2 more threads\n",
      "INFO: worker thread finished; awaiting finish of 1 more threads\n",
      "INFO: worker thread finished; awaiting finish of 0 more threads\n",
      "INFO: EPOCH - 26 : training on 1172543 raw words (1027899 effective words) took 1.3s, 796058 effective words/s\n",
      "INFO: EPOCH 27 - PROGRESS: at 69.12% examples, 749803 words/s, in_qsize 15, out_qsize 4\n",
      "INFO: worker thread finished; awaiting finish of 9 more threads\n",
      "INFO: worker thread finished; awaiting finish of 8 more threads\n",
      "INFO: worker thread finished; awaiting finish of 7 more threads\n",
      "INFO: worker thread finished; awaiting finish of 6 more threads\n",
      "INFO: worker thread finished; awaiting finish of 5 more threads\n",
      "INFO: worker thread finished; awaiting finish of 4 more threads\n",
      "INFO: worker thread finished; awaiting finish of 3 more threads\n",
      "INFO: worker thread finished; awaiting finish of 2 more threads\n",
      "INFO: worker thread finished; awaiting finish of 1 more threads\n",
      "INFO: worker thread finished; awaiting finish of 0 more threads\n",
      "INFO: EPOCH - 27 : training on 1172543 raw words (1027188 effective words) took 1.3s, 774263 effective words/s\n",
      "INFO: EPOCH 28 - PROGRESS: at 73.36% examples, 758646 words/s, in_qsize 19, out_qsize 0\n",
      "INFO: worker thread finished; awaiting finish of 9 more threads\n",
      "INFO: worker thread finished; awaiting finish of 8 more threads\n",
      "INFO: worker thread finished; awaiting finish of 7 more threads\n",
      "INFO: worker thread finished; awaiting finish of 6 more threads\n",
      "INFO: worker thread finished; awaiting finish of 5 more threads\n",
      "INFO: worker thread finished; awaiting finish of 4 more threads\n",
      "INFO: worker thread finished; awaiting finish of 3 more threads\n",
      "INFO: worker thread finished; awaiting finish of 2 more threads\n",
      "INFO: worker thread finished; awaiting finish of 1 more threads\n",
      "INFO: worker thread finished; awaiting finish of 0 more threads\n",
      "INFO: EPOCH - 28 : training on 1172543 raw words (1027221 effective words) took 1.3s, 794511 effective words/s\n",
      "INFO: EPOCH 29 - PROGRESS: at 66.83% examples, 743369 words/s, in_qsize 16, out_qsize 3\n",
      "INFO: worker thread finished; awaiting finish of 9 more threads\n",
      "INFO: worker thread finished; awaiting finish of 8 more threads\n",
      "INFO: worker thread finished; awaiting finish of 7 more threads\n"
     ]
    },
    {
     "name": "stderr",
     "output_type": "stream",
     "text": [
      "INFO: worker thread finished; awaiting finish of 6 more threads\n",
      "INFO: worker thread finished; awaiting finish of 5 more threads\n",
      "INFO: worker thread finished; awaiting finish of 4 more threads\n",
      "INFO: worker thread finished; awaiting finish of 3 more threads\n",
      "INFO: worker thread finished; awaiting finish of 2 more threads\n",
      "INFO: worker thread finished; awaiting finish of 1 more threads\n",
      "INFO: worker thread finished; awaiting finish of 0 more threads\n",
      "INFO: EPOCH - 29 : training on 1172543 raw words (1027493 effective words) took 1.3s, 798338 effective words/s\n",
      "INFO: EPOCH 30 - PROGRESS: at 69.25% examples, 760806 words/s, in_qsize 19, out_qsize 0\n",
      "INFO: worker thread finished; awaiting finish of 9 more threads\n",
      "INFO: worker thread finished; awaiting finish of 8 more threads\n",
      "INFO: worker thread finished; awaiting finish of 7 more threads\n",
      "INFO: worker thread finished; awaiting finish of 6 more threads\n",
      "INFO: worker thread finished; awaiting finish of 5 more threads\n",
      "INFO: worker thread finished; awaiting finish of 4 more threads\n",
      "INFO: worker thread finished; awaiting finish of 3 more threads\n",
      "INFO: worker thread finished; awaiting finish of 2 more threads\n",
      "INFO: worker thread finished; awaiting finish of 1 more threads\n",
      "INFO: worker thread finished; awaiting finish of 0 more threads\n",
      "INFO: EPOCH - 30 : training on 1172543 raw words (1027982 effective words) took 1.3s, 790467 effective words/s\n",
      "INFO: training on a 35176290 raw words (30825625 effective words) took 40.5s, 761287 effective words/s\n"
     ]
    },
    {
     "data": {
      "text/plain": [
       "(30825625, 35176290)"
      ]
     },
     "execution_count": 5,
     "metadata": {},
     "output_type": "execute_result"
    }
   ],
   "source": [
    "w2v_model = Word2Vec(min_count=1, size=300, window=10, workers=10)\n",
    "w2v_model.build_vocab(tokenized_corp_iterator)\n",
    "w2v_model.train(tokenized_corp_iterator, total_examples=w2v_model.corpus_count, epochs=30)"
   ]
  },
  {
   "cell_type": "code",
   "execution_count": 6,
   "metadata": {},
   "outputs": [
    {
     "data": {
      "text/plain": [
       "12315"
      ]
     },
     "execution_count": 6,
     "metadata": {},
     "output_type": "execute_result"
    }
   ],
   "source": [
    "len(w2v_model.wv.vocab)"
   ]
  },
  {
   "cell_type": "markdown",
   "metadata": {},
   "source": [
    "### TFIDF weights model"
   ]
  },
  {
   "cell_type": "code",
   "execution_count": 7,
   "metadata": {
    "scrolled": true
   },
   "outputs": [
    {
     "name": "stderr",
     "output_type": "stream",
     "text": [
      "INFO: adding document #0 to Dictionary(0 unique tokens: [])\n",
      "INFO: built Dictionary(12315 unique tokens: ['1', '2', '3', '4', '5']...) from 6322 documents (total 1172543 corpus positions)\n"
     ]
    }
   ],
   "source": [
    "dct = Dictionary(tokenized_corp_iterator)  # fit dictionary\n",
    "model = TfidfModel(dictionary=dct)  # fit model"
   ]
  },
  {
   "cell_type": "markdown",
   "metadata": {},
   "source": [
    "### Doc2Vec model"
   ]
  },
  {
   "cell_type": "code",
   "execution_count": 8,
   "metadata": {},
   "outputs": [
    {
     "data": {
      "text/plain": [
       "300"
      ]
     },
     "execution_count": 8,
     "metadata": {},
     "output_type": "execute_result"
    }
   ],
   "source": [
    "d2v = Doc2Vec(w2v_model, tfidf_model=model, tokenizer=stem_tokenizer)\n",
    "len(d2v.get_sentence_vector(next(iter(tokenized_corp_iterator)), True))"
   ]
  },
  {
   "cell_type": "code",
   "execution_count": 9,
   "metadata": {},
   "outputs": [
    {
     "data": {
      "text/plain": [
       "300"
      ]
     },
     "execution_count": 9,
     "metadata": {},
     "output_type": "execute_result"
    }
   ],
   "source": [
    "d2v_mean = Doc2Vec(w2v_model, tokenizer=stem_tokenizer)\n",
    "len(d2v_mean.get_sentence_vector(next(iter(tokenized_corp_iterator)), True))"
   ]
  },
  {
   "cell_type": "markdown",
   "metadata": {},
   "source": [
    "### Save doc2vec"
   ]
  },
  {
   "cell_type": "code",
   "execution_count": 10,
   "metadata": {},
   "outputs": [],
   "source": [
    "basedir = r'./data'\n",
    "if not os.path.exists(basedir):\n",
    "    os.makedirs(basedir)\n",
    "    \n",
    "with open(r'./data/doc2vec.model', 'wb') as f:\n",
    "    pickle.dump(d2v, f)\n",
    "    \n",
    "with open(r'./data/doc2vec_mean.model', 'wb') as f:\n",
    "    pickle.dump(d2v_mean, f)"
   ]
  },
  {
   "cell_type": "code",
   "execution_count": 11,
   "metadata": {},
   "outputs": [],
   "source": [
    "with open(r'./data/doc2vec.model', 'rb') as f:\n",
    "    d2v2 = pickle.load(f)"
   ]
  },
  {
   "cell_type": "code",
   "execution_count": 12,
   "metadata": {},
   "outputs": [
    {
     "data": {
      "text/plain": [
       "300"
      ]
     },
     "execution_count": 12,
     "metadata": {},
     "output_type": "execute_result"
    }
   ],
   "source": [
    "len(d2v2.get_sentence_vector(next(iter(tokenized_corp_iterator)), True))"
   ]
  }
 ],
 "metadata": {
  "kernelspec": {
   "display_name": "Python 3",
   "language": "python",
   "name": "python3"
  },
  "language_info": {
   "codemirror_mode": {
    "name": "ipython",
    "version": 3
   },
   "file_extension": ".py",
   "mimetype": "text/x-python",
   "name": "python",
   "nbconvert_exporter": "python",
   "pygments_lexer": "ipython3",
   "version": "3.8.3"
  }
 },
 "nbformat": 4,
 "nbformat_minor": 4
}
