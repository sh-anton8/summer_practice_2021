{
 "cells": [
  {
   "cell_type": "markdown",
   "metadata": {},
   "source": [
    "### Import libs"
   ]
  },
  {
   "cell_type": "code",
   "execution_count": 1,
   "metadata": {
    "scrolled": true
   },
   "outputs": [
    {
     "name": "stderr",
     "output_type": "stream",
     "text": [
      "[nltk_data] Downloading package wordnet to\n",
      "[nltk_data]     C:\\Users\\Anton\\AppData\\Roaming\\nltk_data...\n",
      "[nltk_data]   Package wordnet is already up-to-date!\n",
      "[nltk_data] Downloading package stopwords to\n",
      "[nltk_data]     C:\\Users\\Anton\\AppData\\Roaming\\nltk_data...\n",
      "[nltk_data]   Package stopwords is already up-to-date!\n",
      "INFO: Prediction and metrics\n"
     ]
    }
   ],
   "source": [
    "import nmslib\n",
    "import numpy as np # linear algebra\n",
    "import pandas as pd # data processing, CSV file I/O (e.g. pd.read_csv)\n",
    "\n",
    "import sys\n",
    "import os\n",
    "sys.path.append(os.path.join(sys.path[0], '..'))\n",
    "import pickle\n",
    "from tqdm import tqdm\n",
    "\n",
    "from tools.corpus import SimpleCorp\n",
    "from utils.tokenizers import stem_tokenizer\n",
    "from utils.doc2vec import Doc2Vec\n",
    "from utils.metrics import mrr\n",
    "from utils.inverse_index import InverseIndex\n",
    "\n",
    "from gensim.models import Word2Vec\n",
    "from gensim.models import TfidfModel\n",
    "from gensim.corpora import Dictionary\n",
    "\n",
    "import logging\n",
    "logging.basicConfig(format='%(levelname)s: %(message)s')\n",
    "logging.root.setLevel(level=logging.INFO)\n",
    "logging.info('Prediction and metrics')"
   ]
  },
  {
   "cell_type": "markdown",
   "metadata": {},
   "source": [
    "### Data preparing"
   ]
  },
  {
   "cell_type": "code",
   "execution_count": 2,
   "metadata": {},
   "outputs": [
    {
     "name": "stderr",
     "output_type": "stream",
     "text": [
      "INFO: Data loaded!\n"
     ]
    }
   ],
   "source": [
    "with open(r'./data/doc2vec.model', 'rb') as f:\n",
    "    d2v = pickle.load(f)\n",
    "with open(r'./data/doc2vec_mean.model', 'rb') as f:\n",
    "    d2v_mean = pickle.load(f)\n",
    "    \n",
    "PATH_TO_FILES = './data'\n",
    "tokenized_corp = SimpleCorp().load('codexes_tokenized_corp_articles', os.path.join(PATH_TO_FILES, \"corp\"))\n",
    "simple_corp = SimpleCorp().load('codexes_corp_articles', os.path.join(PATH_TO_FILES, \"corp\"))\n",
    "simple_corp_art_names = SimpleCorp().load('codexes_corp_art_names', os.path.join(PATH_TO_FILES, \"corp\"))\n",
    "    \n",
    "logging.info('Data loaded!')"
   ]
  },
  {
   "cell_type": "markdown",
   "metadata": {},
   "source": [
    "### Index loading"
   ]
  },
  {
   "cell_type": "code",
   "execution_count": 3,
   "metadata": {},
   "outputs": [
    {
     "name": "stderr",
     "output_type": "stream",
     "text": [
      "INFO: Loading index from ./data/index/index_nmslib\n",
      "INFO: Loading optimized index.\n",
      "INFO: searchMethod: 3\n",
      "INFO: Total: 6322, Memory per object: 1348\n",
      "INFO: Finished loading index\n",
      "INFO: Set HNSW query-time parameters:\n",
      "INFO: ef(Search)         =20\n",
      "INFO: algoType           =2\n",
      "INFO: Loading index from ./data/index/index_mean_nmslib\n",
      "INFO: Loading optimized index.\n",
      "INFO: searchMethod: 3\n",
      "INFO: Total: 6322, Memory per object: 1348\n",
      "INFO: Finished loading index\n",
      "INFO: Set HNSW query-time parameters:\n",
      "INFO: ef(Search)         =20\n",
      "INFO: algoType           =2\n"
     ]
    }
   ],
   "source": [
    "path_to_save = r'./data/index'\n",
    "if not os.path.exists(path_to_save):\n",
    "    os.makedirs(path_to_save)\n",
    "index = nmslib.init(method='hnsw', space='cosinesimil')\n",
    "index_mean = nmslib.init(method='hnsw', space='cosinesimil')\n",
    "index.loadIndex(path_to_save + '/index_nmslib')\n",
    "index_mean.loadIndex(path_to_save + '/index_mean_nmslib')"
   ]
  },
  {
   "cell_type": "markdown",
   "metadata": {},
   "source": [
    "### Searching and metrics "
   ]
  },
  {
   "cell_type": "code",
   "execution_count": 4,
   "metadata": {},
   "outputs": [
    {
     "name": "stdout",
     "output_type": "stream",
     "text": [
      "1429\n"
     ]
    }
   ],
   "source": [
    "from tools.pravoved_recognizer import Request\n",
    "\n",
    "pravoved = Request.load(os.path.join(\"./data\", \"pravoved_one_answer.json\"))"
   ]
  },
  {
   "cell_type": "code",
   "execution_count": 5,
   "metadata": {},
   "outputs": [],
   "source": [
    "num2id = {key:val[0] for key, val in enumerate(tokenized_corp)}"
   ]
  },
  {
   "cell_type": "code",
   "execution_count": 6,
   "metadata": {},
   "outputs": [
    {
     "name": "stderr",
     "output_type": "stream",
     "text": [
      "100%|█████████████████████████████████████████████████████████████████████████████| 1429/1429 [00:05<00:00, 274.18it/s]\n"
     ]
    }
   ],
   "source": [
    "preds = []\n",
    "cors = []\n",
    "correct_ = 0\n",
    "all_ = 0\n",
    "for pravoved_obj in tqdm(pravoved):\n",
    "    question_vector = d2v.get_sentence_vector(pravoved_obj['question'], False)\n",
    "    ids, distances = index.knnQuery(question_vector, k=5)\n",
    "    correct_name = (pravoved_obj['codex'], pravoved_obj['norm'])\n",
    "    found_names = [num2id[id_] for id_ in ids]\n",
    "    preds.append(found_names)\n",
    "    cors.append(correct_name)\n",
    "    if correct_name in found_names:\n",
    "        correct_ += 1\n",
    "    all_ += 1"
   ]
  },
  {
   "cell_type": "code",
   "execution_count": 7,
   "metadata": {
    "scrolled": true
   },
   "outputs": [
    {
     "name": "stdout",
     "output_type": "stream",
     "text": [
      "TFIDFIndex Coverage = 153/1429 = 0.107\n",
      "TFIDFIndex MRR = 0.054\n"
     ]
    }
   ],
   "source": [
    "cov = correct_ / all_\n",
    "print(f\"TFIDFIndex Coverage = {correct_}/{all_} = {cov:.3f}\")\n",
    "print(f\"TFIDFIndex MRR = {mrr(cors, preds):.3f}\")"
   ]
  },
  {
   "cell_type": "code",
   "execution_count": 8,
   "metadata": {},
   "outputs": [
    {
     "name": "stderr",
     "output_type": "stream",
     "text": [
      "100%|█████████████████████████████████████████████████████████████████████████████| 1429/1429 [00:05<00:00, 283.42it/s]\n"
     ]
    }
   ],
   "source": [
    "preds = []\n",
    "cors = []\n",
    "correct_ = 0\n",
    "all_ = 0\n",
    "for pravoved_obj in tqdm(pravoved):\n",
    "    question_vector = d2v_mean.get_sentence_vector(pravoved_obj['question'], False)\n",
    "    ids, distances = index_mean.knnQuery(question_vector, k=5)\n",
    "    correct_name = (pravoved_obj['codex'], pravoved_obj['norm'])\n",
    "    found_names = [num2id[id_] for id_ in ids]\n",
    "    preds.append(found_names)\n",
    "    cors.append(correct_name)\n",
    "    if correct_name in found_names:\n",
    "        correct_ += 1\n",
    "    all_ += 1"
   ]
  },
  {
   "cell_type": "code",
   "execution_count": 9,
   "metadata": {},
   "outputs": [
    {
     "name": "stdout",
     "output_type": "stream",
     "text": [
      "MeanIndex Coverage = 67/1429 = 0.047\n",
      "MeanIndex MRR = 0.025\n"
     ]
    }
   ],
   "source": [
    "cov = correct_ / all_\n",
    "print(f\"MeanIndex Coverage = {correct_}/{all_} = {cov:.3f}\")\n",
    "print(f\"MeanIndex MRR = {mrr(cors, preds):.3f}\")"
   ]
  }
 ],
 "metadata": {
  "kernelspec": {
   "display_name": "Python 3",
   "language": "python",
   "name": "python3"
  },
  "language_info": {
   "codemirror_mode": {
    "name": "ipython",
    "version": 3
   },
   "file_extension": ".py",
   "mimetype": "text/x-python",
   "name": "python",
   "nbconvert_exporter": "python",
   "pygments_lexer": "ipython3",
   "version": "3.8.3"
  }
 },
 "nbformat": 4,
 "nbformat_minor": 4
}
