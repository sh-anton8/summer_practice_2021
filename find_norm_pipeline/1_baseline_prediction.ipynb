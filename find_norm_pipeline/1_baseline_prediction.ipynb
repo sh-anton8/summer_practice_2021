{
 "cells": [
  {
   "cell_type": "markdown",
   "metadata": {},
   "source": [
    "### Import libs"
   ]
  },
  {
   "cell_type": "code",
   "execution_count": 1,
   "metadata": {},
   "outputs": [
    {
     "name": "stderr",
     "output_type": "stream",
     "text": [
      "[nltk_data] Downloading package wordnet to\n",
      "[nltk_data]     C:\\Users\\Anton\\AppData\\Roaming\\nltk_data...\n",
      "[nltk_data]   Package wordnet is already up-to-date!\n",
      "[nltk_data] Downloading package stopwords to\n",
      "[nltk_data]     C:\\Users\\Anton\\AppData\\Roaming\\nltk_data...\n",
      "[nltk_data]   Package stopwords is already up-to-date!\n",
      "INFO: Baseline pipeline...\n"
     ]
    }
   ],
   "source": [
    "import nmslib\n",
    "import numpy as np # linear algebra\n",
    "import pandas as pd # data processing, CSV file I/O (e.g. pd.read_csv)\n",
    "import collections\n",
    "\n",
    "import sys\n",
    "import os\n",
    "sys.path.append(os.path.join(sys.path[0], '..'))\n",
    "import pickle\n",
    "from tqdm import tqdm\n",
    "\n",
    "from tools.corpus import SimpleCorp\n",
    "from utils.tokenizers import stem_tokenizer\n",
    "from utils.doc2vec import Doc2Vec\n",
    "from utils.metrics import mrr\n",
    "from utils.inverse_index import InverseIndex\n",
    "\n",
    "import logging\n",
    "logging.basicConfig(format='%(levelname)s: %(message)s')\n",
    "logging.root.setLevel(level=logging.INFO)\n",
    "logging.info('Baseline pipeline...')"
   ]
  },
  {
   "cell_type": "markdown",
   "metadata": {},
   "source": [
    "### Data and corpus preparing"
   ]
  },
  {
   "cell_type": "code",
   "execution_count": 2,
   "metadata": {},
   "outputs": [],
   "source": [
    "PATH_TO_FILES = './data'\n",
    "\n",
    "tokenized_corp = SimpleCorp().load('codexes_tokenized_corp_articles', os.path.join(PATH_TO_FILES, \"corp\"))\n",
    "simple_corp = SimpleCorp().load('codexes_corp_articles', os.path.join(PATH_TO_FILES, \"corp\"))\n",
    "simple_corp_art_names = SimpleCorp().load('codexes_corp_art_names', os.path.join(PATH_TO_FILES, \"corp\"))"
   ]
  },
  {
   "cell_type": "markdown",
   "metadata": {},
   "source": [
    "### Building inverse index"
   ]
  },
  {
   "cell_type": "code",
   "execution_count": 3,
   "metadata": {},
   "outputs": [
    {
     "name": "stderr",
     "output_type": "stream",
     "text": [
      "100%|███████████████████████████████████████████████████████████████████████████| 6322/6322 [00:00<00:00, 22086.85it/s]\n"
     ]
    }
   ],
   "source": [
    "index = InverseIndex(stem_tokenizer)\n",
    "index.build_on(tokenized_corp, tokenized=True)"
   ]
  },
  {
   "cell_type": "code",
   "execution_count": 4,
   "metadata": {},
   "outputs": [
    {
     "data": {
      "text/plain": [
       "[[('20', '93'), 0.47058823529411764],\n",
       " [('20', '251'), 0.4],\n",
       " [('9', '52'), 0.3846153846153846],\n",
       " [('7', '49'), 0.3529411764705882],\n",
       " [('20', '322'), 0.3529411764705882]]"
      ]
     },
     "execution_count": 4,
     "metadata": {},
     "output_type": "execute_result"
    }
   ],
   "source": [
    "index.search('Симметричные корректировки осуществляются в порядке, установленном настоящей статьей', topN=5, threshold=0.1, metric='f_measure')"
   ]
  },
  {
   "cell_type": "markdown",
   "metadata": {},
   "source": [
    "### Metrics counting"
   ]
  },
  {
   "cell_type": "code",
   "execution_count": 5,
   "metadata": {},
   "outputs": [
    {
     "name": "stdout",
     "output_type": "stream",
     "text": [
      "1429\n"
     ]
    }
   ],
   "source": [
    "from tools.pravoved_recognizer import Request\n",
    "\n",
    "pravoved = Request.load(os.path.join(\"./data\", \"pravoved_one_answer.json\"))"
   ]
  },
  {
   "cell_type": "code",
   "execution_count": 6,
   "metadata": {},
   "outputs": [
    {
     "name": "stderr",
     "output_type": "stream",
     "text": [
      "100%|█████████████████████████████████████████████████████████████████████████████| 1429/1429 [00:11<00:00, 121.19it/s]\n"
     ]
    }
   ],
   "source": [
    "preds = []\n",
    "cors = []\n",
    "correct_ = 0\n",
    "all_ = 0\n",
    "for pravoved_obj in tqdm(pravoved):\n",
    "    res = index.search(pravoved_obj['question'], topN=5, threshold=0.1, metric='f_measure')\n",
    "    ids, distances = [a[0] for a in res], [a[1] for a in res]\n",
    "    correct_name = (pravoved_obj['codex'], pravoved_obj['norm'])\n",
    "    preds.append(ids)\n",
    "    cors.append(correct_name)\n",
    "    if correct_name in ids:\n",
    "        correct_ += 1\n",
    "    all_ += 1"
   ]
  },
  {
   "cell_type": "code",
   "execution_count": 7,
   "metadata": {},
   "outputs": [
    {
     "name": "stdout",
     "output_type": "stream",
     "text": [
      "Coverage = 51/1429 = 0.036\n",
      "MRR = 0.021\n"
     ]
    }
   ],
   "source": [
    "cov = correct_ / all_\n",
    "print(f\"Coverage = {correct_}/{all_} = {cov:.3f}\")\n",
    "print(f\"MRR = {mrr(cors, preds):.3f}\")"
   ]
  }
 ],
 "metadata": {
  "kernelspec": {
   "display_name": "Python 3",
   "language": "python",
   "name": "python3"
  },
  "language_info": {
   "codemirror_mode": {
    "name": "ipython",
    "version": 3
   },
   "file_extension": ".py",
   "mimetype": "text/x-python",
   "name": "python",
   "nbconvert_exporter": "python",
   "pygments_lexer": "ipython3",
   "version": "3.8.3"
  }
 },
 "nbformat": 4,
 "nbformat_minor": 4
}
