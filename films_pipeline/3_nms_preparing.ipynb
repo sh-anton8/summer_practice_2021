{
 "cells": [
  {
   "cell_type": "markdown",
   "metadata": {},
   "source": [
    "### Import libs"
   ]
  },
  {
   "cell_type": "code",
   "execution_count": 1,
   "metadata": {},
   "outputs": [
    {
     "name": "stderr",
     "output_type": "stream",
     "text": [
      "[nltk_data] Downloading package wordnet to\n",
      "[nltk_data]     C:\\Users\\Anton\\AppData\\Roaming\\nltk_data...\n",
      "[nltk_data]   Package wordnet is already up-to-date!\n",
      "[nltk_data] Downloading package stopwords to\n",
      "[nltk_data]     C:\\Users\\Anton\\AppData\\Roaming\\nltk_data...\n",
      "[nltk_data]   Package stopwords is already up-to-date!\n"
     ]
    }
   ],
   "source": [
    "import nmslib\n",
    "import numpy as np\n",
    "import pandas as pd # data processing, CSV file I/O (e.g. pd.read_csv)\n",
    "\n",
    "import sys\n",
    "import os\n",
    "sys.path.append(os.path.join(sys.path[0], '..'))\n",
    "import pickle\n",
    "from tqdm import tqdm\n",
    "import collections\n",
    "\n",
    "from tools.corpus import PlotCorpus\n",
    "from utils.doc2vec import Doc2Vec\n",
    "from tools.film_card import FilmCard\n",
    "from utils.metrics import mrr\n",
    "from utils.inverse_index import InverseIndex\n",
    "from utils.tokenizers import lemma_tokenizer"
   ]
  },
  {
   "cell_type": "markdown",
   "metadata": {},
   "source": [
    "### Data preparing"
   ]
  },
  {
   "cell_type": "code",
   "execution_count": 2,
   "metadata": {},
   "outputs": [],
   "source": [
    "with open(r'./data/doc2vec.model', 'rb') as f:\n",
    "    d2v = pickle.load(f)\n",
    "with open(r'./data/doc2vec_mean.model', 'rb') as f:\n",
    "    d2v_mean = pickle.load(f)\n",
    "with open(r'./data/dataset/films_wiki.pickle', 'rb') as f:\n",
    "    films_wiki = pickle.load(f)  "
   ]
  },
  {
   "cell_type": "code",
   "execution_count": 3,
   "metadata": {},
   "outputs": [
    {
     "data": {
      "text/plain": [
       "True"
      ]
     },
     "execution_count": 3,
     "metadata": {},
     "output_type": "execute_result"
    }
   ],
   "source": [
    "# sanity check\n",
    "len(d2v.get_sentence_vector(films_wiki[0].get_box('plot'), False)) == 300 "
   ]
  },
  {
   "cell_type": "code",
   "execution_count": 4,
   "metadata": {},
   "outputs": [
    {
     "name": "stderr",
     "output_type": "stream",
     "text": [
      "100%|███████████████████████████████████████████████████████████████████████████| 34886/34886 [05:28<00:00, 106.34it/s]\n",
      "100%|███████████████████████████████████████████████████████████████████████████| 34886/34886 [04:57<00:00, 117.19it/s]\n"
     ]
    }
   ],
   "source": [
    "films_vectors = [d2v.get_sentence_vector(film.get_box('plot'), False) for film in tqdm(films_wiki)]\n",
    "films_vectors_mean = [d2v_mean.get_sentence_vector(film.get_box('plot'), False) for film in tqdm(films_wiki)]\n",
    "np_films_vectors = np.array(films_vectors)\n",
    "np_films_vectors_mean = np.array(films_vectors_mean)"
   ]
  },
  {
   "cell_type": "markdown",
   "metadata": {},
   "source": [
    "### Index building"
   ]
  },
  {
   "cell_type": "code",
   "execution_count": 5,
   "metadata": {},
   "outputs": [],
   "source": [
    "# initialize a new index, using a HNSW index on Cosine Similarity\n",
    "index = nmslib.init(method='hnsw', space='cosinesimil')\n",
    "index.addDataPointBatch(np_films_vectors)\n",
    "index.createIndex({'post': 2}, print_progress=True)\n",
    "\n",
    "# initialize a new index, using a HNSW index on Cosine Similarity\n",
    "index_mean = nmslib.init(method='hnsw', space='cosinesimil')\n",
    "index_mean.addDataPointBatch(np_films_vectors_mean)\n",
    "index_mean.createIndex({'post': 2}, print_progress=True)"
   ]
  },
  {
   "cell_type": "code",
   "execution_count": 6,
   "metadata": {},
   "outputs": [
    {
     "name": "stdout",
     "output_type": "stream",
     "text": [
      "Sanity check successful\n",
      "Sanity check successful\n"
     ]
    }
   ],
   "source": [
    "ids, distances = index.knnQuery(films_vectors[10], k=5)\n",
    "result_ = 'Sanity check successful' if 10 in ids else 'Sanity check failed'\n",
    "print(result_)\n",
    "\n",
    "ids, distances = index_mean.knnQuery(films_vectors_mean[10], k=5)\n",
    "result_ = 'Sanity check successful' if 10 in ids else 'Sanity check failed'\n",
    "print(result_)"
   ]
  },
  {
   "cell_type": "code",
   "execution_count": 7,
   "metadata": {},
   "outputs": [
    {
     "data": {
      "text/plain": [
       "(array([  10, 5409,  148, 5322, 4700]),\n",
       " array([0.        , 0.20693189, 0.21419895, 0.21472907, 0.21527648],\n",
       "       dtype=float32))"
      ]
     },
     "execution_count": 7,
     "metadata": {},
     "output_type": "execute_result"
    }
   ],
   "source": [
    "ids, distances"
   ]
  },
  {
   "cell_type": "code",
   "execution_count": 8,
   "metadata": {},
   "outputs": [],
   "source": [
    "path_to_save = r'./data/index'\n",
    "if not os.path.exists(path_to_save):\n",
    "    os.makedirs(path_to_save)\n",
    "index.saveIndex(path_to_save + '/index_nmslib', save_data=True)\n",
    "index_mean.saveIndex(path_to_save + '/index_mean_nmslib', save_data=True)"
   ]
  }
 ],
 "metadata": {
  "kernelspec": {
   "display_name": "Python 3",
   "language": "python",
   "name": "python3"
  },
  "language_info": {
   "codemirror_mode": {
    "name": "ipython",
    "version": 3
   },
   "file_extension": ".py",
   "mimetype": "text/x-python",
   "name": "python",
   "nbconvert_exporter": "python",
   "pygments_lexer": "ipython3",
   "version": "3.8.3"
  }
 },
 "nbformat": 4,
 "nbformat_minor": 4
}
