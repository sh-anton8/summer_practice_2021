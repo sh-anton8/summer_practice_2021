{
 "cells": [
  {
   "cell_type": "markdown",
   "metadata": {},
   "source": [
    "### Import libs"
   ]
  },
  {
   "cell_type": "code",
   "execution_count": 1,
   "metadata": {
    "scrolled": true
   },
   "outputs": [
    {
     "name": "stderr",
     "output_type": "stream",
     "text": [
      "[nltk_data] Downloading package wordnet to\n",
      "[nltk_data]     C:\\Users\\Anton\\AppData\\Roaming\\nltk_data...\n",
      "[nltk_data]   Package wordnet is already up-to-date!\n",
      "[nltk_data] Downloading package stopwords to\n",
      "[nltk_data]     C:\\Users\\Anton\\AppData\\Roaming\\nltk_data...\n",
      "[nltk_data]   Package stopwords is already up-to-date!\n",
      "INFO: Prediction and metrics\n"
     ]
    }
   ],
   "source": [
    "import nmslib\n",
    "import numpy as np # linear algebra\n",
    "import pandas as pd # data processing, CSV file I/O (e.g. pd.read_csv)\n",
    "\n",
    "import sys\n",
    "import os\n",
    "sys.path.append(os.path.join(sys.path[0], '..'))\n",
    "import pickle\n",
    "from tqdm import tqdm\n",
    "import collections\n",
    "\n",
    "from tools.corpus import PlotCorpus\n",
    "from utils.doc2vec import Doc2Vec\n",
    "from tools.film_card import FilmCard\n",
    "from utils.metrics import mrr\n",
    "from utils.inverse_index import InverseIndex\n",
    "from utils.tokenizers import lemma_tokenizer\n",
    "\n",
    "from gensim.models import Word2Vec\n",
    "from gensim.models import TfidfModel\n",
    "from gensim.corpora import Dictionary\n",
    "\n",
    "import logging\n",
    "logging.basicConfig(format='%(levelname)s: %(message)s')\n",
    "logging.root.setLevel(level=logging.INFO)\n",
    "logging.info('Prediction and metrics')"
   ]
  },
  {
   "cell_type": "markdown",
   "metadata": {},
   "source": [
    "### Data preparing"
   ]
  },
  {
   "cell_type": "code",
   "execution_count": 2,
   "metadata": {},
   "outputs": [
    {
     "name": "stderr",
     "output_type": "stream",
     "text": [
      "INFO: Data loaded!\n"
     ]
    }
   ],
   "source": [
    "with open(r'./data/doc2vec.model', 'rb') as f:\n",
    "    d2v = pickle.load(f)\n",
    "with open(r'./data/doc2vec_mean.model', 'rb') as f:\n",
    "    d2v_mean = pickle.load(f)\n",
    "    \n",
    "with open(r'./data/dataset/films_wiki.pickle', 'rb') as f:\n",
    "    films_wiki = pickle.load(f)  \n",
    "    \n",
    "with open(r'./data/dataset/films_imdb.pickle', 'rb') as f:\n",
    "    films_imdb = pickle.load(f)\n",
    "    \n",
    "logging.info('Data loaded!')"
   ]
  },
  {
   "cell_type": "markdown",
   "metadata": {},
   "source": [
    "### Index loading"
   ]
  },
  {
   "cell_type": "code",
   "execution_count": 3,
   "metadata": {},
   "outputs": [
    {
     "name": "stderr",
     "output_type": "stream",
     "text": [
      "INFO: Loading index from ./data/index/index_nmslib\n",
      "INFO: Loading optimized index.\n",
      "INFO: searchMethod: 3\n",
      "INFO: Total: 34886, Memory per object: 1348\n",
      "INFO: Finished loading index\n",
      "INFO: Set HNSW query-time parameters:\n",
      "INFO: ef(Search)         =20\n",
      "INFO: algoType           =2\n",
      "INFO: Loading index from ./data/index/index_mean_nmslib\n",
      "INFO: Loading optimized index.\n",
      "INFO: searchMethod: 3\n",
      "INFO: Total: 34886, Memory per object: 1348\n",
      "INFO: Finished loading index\n",
      "INFO: Set HNSW query-time parameters:\n",
      "INFO: ef(Search)         =20\n",
      "INFO: algoType           =2\n"
     ]
    }
   ],
   "source": [
    "path_to_save = r'./data/index'\n",
    "if not os.path.exists(path_to_save):\n",
    "    os.makedirs(path_to_save)\n",
    "index = nmslib.init(method='hnsw', space='cosinesimil')\n",
    "index_mean = nmslib.init(method='hnsw', space='cosinesimil')\n",
    "index.loadIndex(path_to_save + '/index_nmslib')\n",
    "index_mean.loadIndex(path_to_save + '/index_mean_nmslib')"
   ]
  },
  {
   "cell_type": "markdown",
   "metadata": {},
   "source": [
    "### Searching and metrics "
   ]
  },
  {
   "cell_type": "code",
   "execution_count": 4,
   "metadata": {},
   "outputs": [
    {
     "name": "stderr",
     "output_type": "stream",
     "text": [
      "100%|██████████████████████████████████████████████████████████████████████████████████| 86/86 [00:03<00:00, 22.30it/s]\n",
      "100%|██████████████████████████████████████████████████████████████████████████████████| 86/86 [00:02<00:00, 41.17it/s]\n"
     ]
    }
   ],
   "source": [
    "imdb_vectors = [d2v.get_sentence_vector(film.get_box('plot'), False) for film in tqdm(films_imdb)]\n",
    "imdb_vectors_mean = [d2v_mean.get_sentence_vector(film.get_box('plot'), False) for film in tqdm(films_imdb)]"
   ]
  },
  {
   "cell_type": "code",
   "execution_count": 5,
   "metadata": {},
   "outputs": [
    {
     "name": "stderr",
     "output_type": "stream",
     "text": [
      "86it [00:00, 6630.82it/s]\n"
     ]
    }
   ],
   "source": [
    "preds = []\n",
    "cors = []\n",
    "correct_ = 0\n",
    "all_ = 0\n",
    "for film, film_vector in tqdm(zip(films_imdb, imdb_vectors)):\n",
    "    ids, distances = index.knnQuery(film_vector, k=5)\n",
    "    correct_name = film.get_box('title')\n",
    "    found_names = [films_wiki[id_].get_box('title') for id_ in ids]\n",
    "    preds.append(found_names)\n",
    "    cors.append(correct_name)\n",
    "    if correct_name in found_names:\n",
    "        correct_ += 1\n",
    "    all_ += 1"
   ]
  },
  {
   "cell_type": "code",
   "execution_count": 6,
   "metadata": {
    "scrolled": true
   },
   "outputs": [
    {
     "name": "stdout",
     "output_type": "stream",
     "text": [
      "TFIDFIndex Coverage = 79/86 = 0.919\n",
      "TFIDFIndex MRR = 0.902\n"
     ]
    }
   ],
   "source": [
    "cov = correct_ / all_\n",
    "print(f\"TFIDFIndex Coverage = {correct_}/{all_} = {cov:.3f}\")\n",
    "print(f\"TFIDFIndex MRR = {mrr(cors, preds):.3f}\")"
   ]
  },
  {
   "cell_type": "code",
   "execution_count": 7,
   "metadata": {},
   "outputs": [
    {
     "name": "stderr",
     "output_type": "stream",
     "text": [
      "86it [00:00, 5386.95it/s]\n"
     ]
    }
   ],
   "source": [
    "preds = []\n",
    "cors = []\n",
    "correct_ = 0\n",
    "all_ = 0\n",
    "for film, film_vector in tqdm(zip(films_imdb, imdb_vectors_mean)):\n",
    "    ids, distances = index_mean.knnQuery(film_vector, k=5)\n",
    "    correct_name = film.get_box('title')\n",
    "    found_names = [films_wiki[id_].get_box('title') for id_ in ids]\n",
    "    preds.append(found_names)\n",
    "    cors.append(correct_name)\n",
    "    if correct_name in found_names:\n",
    "        correct_ += 1\n",
    "    all_ += 1"
   ]
  },
  {
   "cell_type": "code",
   "execution_count": 8,
   "metadata": {},
   "outputs": [
    {
     "name": "stdout",
     "output_type": "stream",
     "text": [
      "MeanIndex Coverage = 49/86 = 0.570\n",
      "MeanIndex MRR = 0.481\n"
     ]
    }
   ],
   "source": [
    "cov = correct_ / all_\n",
    "print(f\"MeanIndex Coverage = {correct_}/{all_} = {cov:.3f}\")\n",
    "print(f\"MeanIndex MRR = {mrr(cors, preds):.3f}\")"
   ]
  }
 ],
 "metadata": {
  "kernelspec": {
   "display_name": "Python 3",
   "language": "python",
   "name": "python3"
  },
  "language_info": {
   "codemirror_mode": {
    "name": "ipython",
    "version": 3
   },
   "file_extension": ".py",
   "mimetype": "text/x-python",
   "name": "python",
   "nbconvert_exporter": "python",
   "pygments_lexer": "ipython3",
   "version": "3.8.3"
  }
 },
 "nbformat": 4,
 "nbformat_minor": 4
}
