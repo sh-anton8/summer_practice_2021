{
 "cells": [
  {
   "cell_type": "markdown",
   "metadata": {},
   "source": [
    "### Import libs"
   ]
  },
  {
   "cell_type": "code",
   "execution_count": 1,
   "metadata": {},
   "outputs": [
    {
     "name": "stderr",
     "output_type": "stream",
     "text": [
      "[nltk_data] Downloading package wordnet to\n",
      "[nltk_data]     C:\\Users\\Anton\\AppData\\Roaming\\nltk_data...\n",
      "[nltk_data]   Package wordnet is already up-to-date!\n",
      "[nltk_data] Downloading package stopwords to\n",
      "[nltk_data]     C:\\Users\\Anton\\AppData\\Roaming\\nltk_data...\n",
      "[nltk_data]   Package stopwords is already up-to-date!\n",
      "INFO: Baseline pipeline...\n"
     ]
    }
   ],
   "source": [
    "import nmslib\n",
    "import numpy as np # linear algebra\n",
    "import pandas as pd # data processing, CSV file I/O (e.g. pd.read_csv)\n",
    "\n",
    "import sys\n",
    "import os\n",
    "sys.path.append(os.path.join(sys.path[0], '..'))\n",
    "import pickle\n",
    "from tqdm import tqdm\n",
    "\n",
    "from tools.corpus import PlotCorpus\n",
    "from utils.doc2vec import Doc2Vec\n",
    "from tools.film_card import FilmCard\n",
    "from utils.tokenizers import lemma_tokenizer\n",
    "from utils.metrics import mrr\n",
    "from utils.inverse_index import InverseIndex\n",
    "\n",
    "import logging\n",
    "logging.basicConfig(format='%(levelname)s: %(message)s')\n",
    "logging.root.setLevel(level=logging.INFO)\n",
    "logging.info('Baseline pipeline...')"
   ]
  },
  {
   "cell_type": "markdown",
   "metadata": {},
   "source": [
    "### Data and corpus preparing"
   ]
  },
  {
   "cell_type": "code",
   "execution_count": 2,
   "metadata": {},
   "outputs": [
    {
     "name": "stderr",
     "output_type": "stream",
     "text": [
      "INFO: Data loaded!\n"
     ]
    }
   ],
   "source": [
    "with open(r'./data/dataset/films_wiki.pickle', 'rb') as f:\n",
    "    films_wiki = pickle.load(f)\n",
    "with open(r'./data/dataset/films_imdb.pickle', 'rb') as f:\n",
    "    films_imdb = pickle.load(f)   \n",
    "logging.info('Data loaded!')"
   ]
  },
  {
   "cell_type": "code",
   "execution_count": 3,
   "metadata": {},
   "outputs": [],
   "source": [
    "corpus = [(film.get_box('title'), film.get_box('plot')) for film in films_wiki]"
   ]
  },
  {
   "cell_type": "markdown",
   "metadata": {},
   "source": [
    "### Building inverse index"
   ]
  },
  {
   "cell_type": "code",
   "execution_count": 4,
   "metadata": {},
   "outputs": [
    {
     "name": "stderr",
     "output_type": "stream",
     "text": [
      "100%|███████████████████████████████████████████████████████████████████████████| 34886/34886 [02:42<00:00, 214.74it/s]\n"
     ]
    },
    {
     "data": {
      "text/plain": [
       "([['Dream of a Rarebit Fiend', 1.0],\n",
       "  ['No Escape', 0.46376811594202905],\n",
       "  ['Catacombs', 0.4242424242424243],\n",
       "  ['The Hole', 0.4197530864197531],\n",
       "  ['Split', 0.411764705882353]],\n",
       " 'Dream of a Rarebit Fiend')"
      ]
     },
     "execution_count": 4,
     "metadata": {},
     "output_type": "execute_result"
    }
   ],
   "source": [
    "index = InverseIndex(lemma_tokenizer)\n",
    "index.build_on(corpus, tokenized=False)\n",
    "\n",
    "index.search(films_wiki[10].get_box('plot'), topN=5, threshold=0.1, metric='f_measure'), films_wiki[10].get_box('title')"
   ]
  },
  {
   "cell_type": "markdown",
   "metadata": {},
   "source": [
    "### Metrics counting"
   ]
  },
  {
   "cell_type": "code",
   "execution_count": 5,
   "metadata": {},
   "outputs": [
    {
     "name": "stderr",
     "output_type": "stream",
     "text": [
      "100%|██████████████████████████████████████████████████████████████████████████████████| 86/86 [00:10<00:00,  8.09it/s]\n"
     ]
    }
   ],
   "source": [
    "preds = []\n",
    "cors = []\n",
    "correct_ = 0\n",
    "all_ = 0\n",
    "for film in tqdm(films_imdb):\n",
    "    res = index.search(film.get_box('plot'), topN=5, threshold=0.1, metric='f_measure')\n",
    "    ids, distances = [a[0] for a in res], [a[1] for a in res]\n",
    "    correct_name = film.get_box('title')\n",
    "    preds.append(ids)\n",
    "    cors.append(correct_name)\n",
    "    if correct_name in ids:\n",
    "        correct_ += 1\n",
    "    all_ += 1"
   ]
  },
  {
   "cell_type": "code",
   "execution_count": 6,
   "metadata": {},
   "outputs": [
    {
     "name": "stdout",
     "output_type": "stream",
     "text": [
      "Coverage = 43/86 = 0.500\n",
      "MRR = 0.375\n"
     ]
    }
   ],
   "source": [
    "cov = correct_ / all_\n",
    "print(f\"Coverage = {correct_}/{all_} = {cov:.3f}\")\n",
    "print(f\"MRR = {mrr(cors, preds):.3f}\")"
   ]
  }
 ],
 "metadata": {
  "kernelspec": {
   "display_name": "Python 3",
   "language": "python",
   "name": "python3"
  },
  "language_info": {
   "codemirror_mode": {
    "name": "ipython",
    "version": 3
   },
   "file_extension": ".py",
   "mimetype": "text/x-python",
   "name": "python",
   "nbconvert_exporter": "python",
   "pygments_lexer": "ipython3",
   "version": "3.8.3"
  }
 },
 "nbformat": 4,
 "nbformat_minor": 4
}
